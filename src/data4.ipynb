{
 "cells": [
  {
   "cell_type": "code",
   "execution_count": 1,
   "metadata": {},
   "outputs": [
    {
     "name": "stdout",
     "output_type": "stream",
     "text": [
      "(607, 9)\n"
     ]
    }
   ],
   "source": [
    "import warnings\n",
    "warnings.simplefilter('ignore')\n",
    "\n",
    "import numpy as np\n",
    "import pandas as pd\n",
    "\n",
    "\n",
    "from sklearn.model_selection import train_test_split as tts\n",
    "\n",
    "from sklearn.ensemble import RandomForestRegressor as RFR\n",
    "from sklearn.ensemble import RandomForestClassifier as RFC\n",
    "\n",
    "from sklearn.model_selection import GridSearchCV        # por fuerza bruta\n",
    "from sklearn.model_selection import RandomizedSearchCV\n",
    "\n",
    "salaries=pd.read_csv('../data/salaries_data.csv')\n",
    "testeo=pd.read_csv('../data/testeo.csv')\n",
    "\n",
    "salaries.drop(columns=['salary_currency', 'salary'], inplace=True)  \n",
    "\n",
    "testeo.drop(columns=['salary_currency', 'salary'], inplace=True) \n",
    "\n",
    "total=pd.concat([salaries, testeo])\n",
    "\n",
    "print(total.shape)\n",
    "\n",
    "total=pd.get_dummies(total, drop_first=True)\n",
    "\n",
    "total.shape\n",
    "\n",
    "total.fillna(0)\n",
    "\n",
    "salaries=total.iloc[:500,:]\n",
    "testeo=total.iloc[500:,:]\n",
    "\n",
    "testeo.drop(columns='salary_in_usd', inplace=True)\n",
    "\n"
   ]
  },
  {
   "cell_type": "code",
   "execution_count": 2,
   "metadata": {},
   "outputs": [],
   "source": [
    "def grid(modelo, param):\n",
    "    \n",
    "    g=GridSearchCV(modelo, # modelo de sklearn\n",
    "                   param,  # dictio de parametros\n",
    "                   cv=5,   # nº de cortes del cross-validation\n",
    "                   return_train_score=True, # error en entrenamiento para checkear\n",
    "                   n_jobs=-1  # usa todos los nucleos disponibles\n",
    "                  )\n",
    "\n",
    "    g.fit(X_train, y_train)\n",
    "\n",
    "    print('Acierto test: {:.2f}'.format(g.score(X_test, y_test)))\n",
    "    print('Acierto train: {:.2f}'.format(g.score(X_train, y_train)))\n",
    "    print('Mejores parametros: {}'.format(g.best_params_))\n",
    "    print('Mejor acierto cv: {:.2f}'.format(g.best_score_))\n",
    "\n",
    "    return g.best_estimator_.fit(X_train, y_train)  # mejor modelo encontrado ya entrenado"
   ]
  },
  {
   "cell_type": "code",
   "execution_count": 3,
   "metadata": {},
   "outputs": [],
   "source": [
    "X=salaries.drop(columns=['salary_in_usd'])\n",
    "y=salaries.salary_in_usd\n",
    "X_train, X_test, y_train, y_test=tts(X, y, random_state=42)"
   ]
  },
  {
   "cell_type": "code",
   "execution_count": 4,
   "metadata": {},
   "outputs": [
    {
     "name": "stdout",
     "output_type": "stream",
     "text": [
      "Acierto test: 0.45\n",
      "Acierto train: 0.81\n",
      "Mejores parametros: {'max_depth': 10, 'n_estimators': 150}\n",
      "Mejor acierto cv: 0.47\n"
     ]
    }
   ],
   "source": [
    "param={'n_estimators': [10, 50, 100, 150, 200, 500],\n",
    "       'max_depth': [1, 5, 10, 15, 20]}\n",
    "\n",
    "modelo=grid(RFR(), param)"
   ]
  },
  {
   "cell_type": "code",
   "execution_count": 5,
   "metadata": {},
   "outputs": [],
   "source": [
    "rfr=RFR(n_estimators=150,max_depth=10)\n",
    "rfr.fit(X_train, y_train)\n",
    "pred_rfr=rfr.predict(X)"
   ]
  },
  {
   "cell_type": "code",
   "execution_count": 7,
   "metadata": {},
   "outputs": [
    {
     "name": "stdout",
     "output_type": "stream",
     "text": [
      "rfr 35256.61897808026\n"
     ]
    }
   ],
   "source": [
    "from sklearn.metrics import mean_squared_error as mse \n",
    "print('rfr',mse( y, pred_rfr, squared=False))"
   ]
  },
  {
   "cell_type": "code",
   "execution_count": 8,
   "metadata": {},
   "outputs": [],
   "source": [
    "pred_rfr=rfr.predict(testeo)\n",
    "pred_rfr=pd.DataFrame(pred_rfr, columns=['salary_in_usd'])\n",
    "pred_rfr.to_csv('../data/rfr3.csv',index_label='id')"
   ]
  },
  {
   "cell_type": "code",
   "execution_count": null,
   "metadata": {},
   "outputs": [],
   "source": [
    "from sklearn.linear_model import Ridge \n",
    "\n",
    "param={'alpha': [1.0, 2.0, 3.0, 4.0, 5.0, 6.0],\n",
    "       'normalize': [True,False],\n",
    "       'max_iter':[100,250,500,1000,1500,2000,2500]}\n"
   ]
  }
 ],
 "metadata": {
  "kernelspec": {
   "display_name": "Python 3.9.12 ('base')",
   "language": "python",
   "name": "python3"
  },
  "language_info": {
   "codemirror_mode": {
    "name": "ipython",
    "version": 3
   },
   "file_extension": ".py",
   "mimetype": "text/x-python",
   "name": "python",
   "nbconvert_exporter": "python",
   "pygments_lexer": "ipython3",
   "version": "3.9.12"
  },
  "orig_nbformat": 4,
  "vscode": {
   "interpreter": {
    "hash": "1551151381e773f0aad4d7f5dd85d557969b09f98d8f1647db122078155b292b"
   }
  }
 },
 "nbformat": 4,
 "nbformat_minor": 2
}
